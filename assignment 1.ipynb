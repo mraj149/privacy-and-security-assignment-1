{
 "cells": [
  {
   "cell_type": "code",
   "execution_count": 2,
   "metadata": {},
   "outputs": [],
   "source": [
    "import pandas as pd\n",
    "import re\n",
    "from collections import Counter"
   ]
  },
  {
   "cell_type": "code",
   "execution_count": 5,
   "metadata": {},
   "outputs": [],
   "source": [
    "# Loading the dataset\n",
    "data = pd.read_csv(\"hacktivist_messages.csv\", delimiter=';')"
   ]
  },
  {
   "cell_type": "markdown",
   "metadata": {},
   "source": [
    "## Question A"
   ]
  },
  {
   "cell_type": "code",
   "execution_count": 12,
   "metadata": {},
   "outputs": [],
   "source": [
    "# Identifying countries EU+Nordic\n",
    "eu_nordic_countries = [\"Denmark\", \"Sweden\", \"Finland\", \"Norway\", \"Iceland\", \"Poland\", \n",
    "                       \"Germany\", \"France\", \"Italy\", \"Spain\", \"Netherlands\", \"Belgium\", \n",
    "                       \"Lithuania\", \"Latvia\", \"Estonia\", \"Ireland\", \"Portugal\", \"Greece\", \n",
    "                       \"Luxembourg\", \"Czech Republic\", \"Slovakia\", \"Slovenia\", \"Hungary\", \n",
    "                       \"Austria\", \"Romania\", \"Bulgaria\", \"Croatia\", \"Cyprus\", \"Malta\"]\n"
   ]
  },
  {
   "cell_type": "code",
   "execution_count": 15,
   "metadata": {},
   "outputs": [],
   "source": [
    "def clean_and_concatenate_text(data):\n",
    "    # Convert all text to lowercase and fill NaN values with empty strings\n",
    "    all_text = ' '.join(data['Text'].fillna('').str.lower())\n",
    "    return all_text"
   ]
  },
  {
   "cell_type": "code",
   "execution_count": 17,
   "metadata": {},
   "outputs": [
    {
     "name": "stdout",
     "output_type": "stream",
     "text": [
      "Poland: 176 mentions\n",
      "Spain: 159 mentions\n",
      "Czech Republic: 146 mentions\n",
      "Finland: 115 mentions\n",
      "Germany: 102 mentions\n",
      "Italy: 102 mentions\n",
      "Lithuania: 99 mentions\n",
      "Latvia: 96 mentions\n",
      "Denmark: 76 mentions\n",
      "France: 76 mentions\n",
      "Netherlands: 73 mentions\n",
      "Sweden: 61 mentions\n",
      "Estonia: 54 mentions\n",
      "Luxembourg: 44 mentions\n",
      "Norway: 42 mentions\n",
      "Belgium: 42 mentions\n",
      "Romania: 40 mentions\n",
      "Slovakia: 29 mentions\n",
      "Bulgaria: 27 mentions\n",
      "Slovenia: 23 mentions\n",
      "Greece: 20 mentions\n",
      "Austria: 17 mentions\n",
      "Iceland: 8 mentions\n",
      "Hungary: 7 mentions\n",
      "Croatia: 7 mentions\n",
      "Cyprus: 6 mentions\n",
      "Portugal: 5 mentions\n",
      "Ireland: 3 mentions\n",
      "Malta: 3 mentions\n"
     ]
    }
   ],
   "source": [
    "def count_mentions(text, items):\n",
    "    mentions = Counter()\n",
    "    \n",
    "    for item in items:\n",
    "        # Use regex to find whole words matching the item (case-insensitive)\n",
    "        item_mentions = len(re.findall(r\"\\b{}\\b\".format(re.escape(item.lower())), text))\n",
    "        if item_mentions > 0:\n",
    "            mentions[item] = item_mentions\n",
    "    \n",
    "    return mentions\n",
    "\n",
    "cleaned_text = clean_and_concatenate_text(data)\n",
    "\n",
    "country_mentions = count_mentions(cleaned_text, eu_nordic_countries)\n",
    "\n",
    "\n",
    "for country, count in sorted(country_mentions.items(), key=lambda x: x[1], reverse=True):\n",
    "    print(f\"{country}: {count} mentions\")\n"
   ]
  },
  {
   "cell_type": "markdown",
   "metadata": {},
   "source": [
    "## Question B"
   ]
  },
  {
   "cell_type": "code",
   "execution_count": 18,
   "metadata": {},
   "outputs": [],
   "source": [
    "critical_infrastructure_sectors = [\n",
    "    \"Energy\", \n",
    "    \"Transport\", \n",
    "    \"Banking\", \n",
    "    \"Financial Market\", \n",
    "    \"Health\", \n",
    "    \"Drinking Water\", \n",
    "    \"Waste Water\", \n",
    "    \"Digital Infrastructure\", \n",
    "    \"Public Administration\", \n",
    "    \"Space\", \n",
    "    \"Food Production\"\n",
    "]"
   ]
  },
  {
   "cell_type": "code",
   "execution_count": 19,
   "metadata": {},
   "outputs": [
    {
     "name": "stdout",
     "output_type": "stream",
     "text": [
      "Transport: 423 mentions\n",
      "Energy: 117 mentions\n",
      "Banking: 72 mentions\n",
      "Public Administration: 20 mentions\n",
      "Space: 8 mentions\n",
      "Digital Infrastructure: 6 mentions\n",
      "Health: 4 mentions\n",
      "Drinking Water: 1 mentions\n"
     ]
    }
   ],
   "source": [
    "def count_sector_mentions(text, sectors):\n",
    "    sector_mentions = Counter()\n",
    "    \n",
    "    for sector in sectors:\n",
    "        # Find exact sector name in the text (case-insensitive)\n",
    "        if re.search(r\"\\b{}\\b\".format(re.escape(sector.lower())), text):\n",
    "            # Count occurrences of the sector name in the entire dataset\n",
    "            sector_mentions[sector] = len(re.findall(r\"\\b{}\\b\".format(re.escape(sector.lower())), text))\n",
    "    \n",
    "    return sector_mentions\n",
    "\n",
    "# Step 5: Clean and preprocess the text\n",
    "all_text = clean_and_concatenate_text(data)\n",
    "\n",
    "# Step 6: Apply the function to get the count of mentions for each sector\n",
    "sector_mentions = count_sector_mentions(all_text, critical_infrastructure_sectors)\n",
    "\n",
    "# Step 7: Display the results\n",
    "for sector, count in sorted(sector_mentions.items(), key=lambda x: x[1], reverse=True):\n",
    "    print(f\"{sector}: {count} mentions\")"
   ]
  },
  {
   "cell_type": "markdown",
   "metadata": {},
   "source": [
    "## Question C"
   ]
  },
  {
   "cell_type": "code",
   "execution_count": 27,
   "metadata": {},
   "outputs": [],
   "source": [
    "security_terms = {\n",
    "    'Confidentiality': ['Confidentiality','confidentiality','leak', 'data breach', 'exposed', 'stolen', 'accessed', 'unauthorized'],\n",
    "    'Integrity': ['Integrity','integrity','tampered', 'altered', 'defaced', 'manipulated', 'changed', 'corrupted'],\n",
    "    'Availability': ['Availability','availability','ddos', 'down', 'unavailable', 'crash', 'offline', 'service disruption']\n",
    "}\n"
   ]
  },
  {
   "cell_type": "code",
   "execution_count": 28,
   "metadata": {},
   "outputs": [
    {
     "name": "stdout",
     "output_type": "stream",
     "text": [
      "Security Property Mentions:\n",
      "Confidentiality: 2 mentions\n",
      "Integrity: 11 mentions\n",
      "Availability: 3052 mentions\n"
     ]
    }
   ],
   "source": [
    "def count_security_mentions(text, security_terms):\n",
    "    \"\"\"\n",
    "    Counts the occurrences of each security property (confidentiality, integrity, availability) based on keywords.\n",
    "    \"\"\"\n",
    "    mentions = Counter()\n",
    "\n",
    "    for property_name, terms in security_terms.items():\n",
    "        # Use regex to find occurrences of the terms associated with each property\n",
    "        for term in terms:\n",
    "            mentions[property_name] += len(re.findall(r\"\\b{}\\b\".format(re.escape(term.lower())), text))\n",
    "\n",
    "    return mentions\n",
    "cleaned_text = clean_and_concatenate_text(data)\n",
    "\n",
    "# Step 6: Count security property mentions\n",
    "security_mentions = count_security_mentions(cleaned_text, security_terms)\n",
    "\n",
    "# Step 7: Display the results\n",
    "print(\"Security Property Mentions:\")\n",
    "for property_name, count in security_mentions.items():\n",
    "    print(f\"{property_name}: {count} mentions\")"
   ]
  }
 ],
 "metadata": {
  "kernelspec": {
   "display_name": "base",
   "language": "python",
   "name": "python3"
  },
  "language_info": {
   "codemirror_mode": {
    "name": "ipython",
    "version": 3
   },
   "file_extension": ".py",
   "mimetype": "text/x-python",
   "name": "python",
   "nbconvert_exporter": "python",
   "pygments_lexer": "ipython3",
   "version": "3.9.12"
  }
 },
 "nbformat": 4,
 "nbformat_minor": 2
}
